{
 "cells": [
  {
   "cell_type": "code",
   "execution_count": 128,
   "metadata": {},
   "outputs": [],
   "source": [
    "import numpy as np"
   ]
  },
  {
   "cell_type": "code",
   "execution_count": 129,
   "metadata": {},
   "outputs": [],
   "source": [
    "epsilon=0.001"
   ]
  },
  {
   "cell_type": "code",
   "execution_count": 130,
   "metadata": {},
   "outputs": [],
   "source": [
    "def check(line1,line2):\n",
    "    for num1,num2 in zip(line1,line2):\n",
    "        if(np.abs(num1-num2)>epsilon):\n",
    "            print \"Not working\"\n",
    "            print str(num1)+\" \"+str(num2)+\" \"+str(np.abs(num1-num2))"
   ]
  },
  {
   "cell_type": "code",
   "execution_count": 131,
   "metadata": {},
   "outputs": [],
   "source": [
    "lines=[]\n",
    "with open(\"output.txt\") as textFile:\n",
    "    for line in textFile:\n",
    "        line = line.translate(None, '[]')\n",
    "        if len(line)>10:\n",
    "            lines.append([line.split()])\n",
    "        \n",
    "for i,line1 in enumerate(lines):\n",
    "    for j,line2 in enumerate(line1):\n",
    "        lines[i][j]=map(float,lines[i][j])\n",
    "        \n",
    "linesCorrect=[]\n",
    "with open(\"./mnistSampleOutput/1/conv1.txt\") as textFile:\n",
    "    for line in textFile:\n",
    "        line = line.translate(None, '[]')\n",
    "        if len(line)>10:\n",
    "            linesCorrect.append([line.split()])\n",
    "        \n",
    "for i,line1 in enumerate(linesCorrect):\n",
    "    for j,line2 in enumerate(line1):\n",
    "        linesCorrect[i][j]=map(float,linesCorrect[i][j])\n",
    "\n",
    "line1=np.array(lines).squeeze().flatten()\n",
    "line2=np.array(linesCorrect).squeeze().flatten()\n"
   ]
  },
  {
   "cell_type": "code",
   "execution_count": 132,
   "metadata": {},
   "outputs": [],
   "source": [
    "check(line1,line2)"
   ]
  },
  {
   "cell_type": "code",
   "execution_count": 133,
   "metadata": {},
   "outputs": [],
   "source": [
    "pool=[]\n",
    "with open(\"./mnistSampleOutput/1/pool1.txt\") as textFile:\n",
    "    for line in textFile:\n",
    "        line = line.translate(None, '[]')\n",
    "        if len(line)>10:\n",
    "            pool.append([line.split()])\n",
    "        \n",
    "for i,line1 in enumerate(pool):\n",
    "    for j,line2 in enumerate(line1):\n",
    "        pool[i][j]=map(float,pool[i][j])\n",
    "pool=np.array(pool).squeeze().flatten()\n",
    "\n",
    "f=open(\"pool1.txt\",\"w\")\n",
    "f.write(\" \".join(str(num) for num in pool))\n",
    "f.close()"
   ]
  },
  {
   "cell_type": "code",
   "execution_count": 134,
   "metadata": {},
   "outputs": [],
   "source": [
    "lines=[]\n",
    "with open(\"output2.txt\") as textFile:\n",
    "    for line in textFile:\n",
    "        line = line.translate(None, '[]')\n",
    "        if len(line)>10:\n",
    "            lines.append([line.split()])\n",
    "        \n",
    "for i,line1 in enumerate(lines):\n",
    "    for j,line2 in enumerate(line1):\n",
    "        lines[i][j]=map(float,lines[i][j])\n",
    "        \n",
    "linesCorrect=[]\n",
    "with open(\"./mnistSampleOutput/1/conv2.txt\") as textFile:\n",
    "    for line in textFile:\n",
    "        line = line.translate(None, '[]')\n",
    "        if len(line)>10:\n",
    "            linesCorrect.append([line.split()])\n",
    "        \n",
    "for i,line1 in enumerate(linesCorrect):\n",
    "    for j,line2 in enumerate(line1):\n",
    "        linesCorrect[i][j]=map(float,linesCorrect[i][j])\n",
    "\n",
    "line1=np.array(lines).squeeze().flatten()\n",
    "line2=np.array(linesCorrect).squeeze().flatten()\n"
   ]
  },
  {
   "cell_type": "code",
   "execution_count": 135,
   "metadata": {},
   "outputs": [],
   "source": [
    "check(line1,line2)"
   ]
  }
 ],
 "metadata": {
  "kernelspec": {
   "display_name": "Python 2",
   "language": "python",
   "name": "python2"
  },
  "language_info": {
   "codemirror_mode": {
    "name": "ipython",
    "version": 2
   },
   "file_extension": ".py",
   "mimetype": "text/x-python",
   "name": "python",
   "nbconvert_exporter": "python",
   "pygments_lexer": "ipython2",
   "version": "2.7.15"
  }
 },
 "nbformat": 4,
 "nbformat_minor": 2
}
