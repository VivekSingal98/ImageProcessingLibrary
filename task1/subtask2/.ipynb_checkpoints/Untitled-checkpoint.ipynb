{
 "cells": [
  {
   "cell_type": "code",
   "execution_count": 1,
   "metadata": {},
   "outputs": [],
   "source": [
    "import numpy as np"
   ]
  },
  {
   "cell_type": "code",
   "execution_count": 2,
   "metadata": {},
   "outputs": [],
   "source": [
    "size1=200\n",
    "size2=200\n",
    "size3=100\n",
    "size4=200\n",
    "a=np.random.randn(size1,size2).astype(np.float32)\n",
    "b=np.random.randn(size3,size4).astype(np.float32)\n",
    "f = open(\"input1.txt\", \"w\")\n",
    "for elem in a:\n",
    "    f.write(\" \".join(str(num) for num in elem))\n",
    "    f.write(\" \")    \n",
    "f.close();\n",
    "f = open(\"input2.txt\", \"w\")\n",
    "for elem in b:\n",
    "    f.write(\" \".join(str(num) for num in elem))\n",
    "    f.write(\" \")    \n",
    "f.close();\n",
    "c=np.dot(a,b)\n",
    "f = open(\"output.txt\", \"w\")\n",
    "for elem in c:\n",
    "    f.write(\" \".join(str(num) for num in elem))\n",
    "    f.write(\" \")    \n",
    "f.close();\n"
   ]
  },
  {
   "cell_type": "code",
   "execution_count": null,
   "metadata": {},
   "outputs": [],
   "source": []
  }
 ],
 "metadata": {
  "kernelspec": {
   "display_name": "Python 2",
   "language": "python",
   "name": "python2"
  },
  "language_info": {
   "codemirror_mode": {
    "name": "ipython",
    "version": 2
   },
   "file_extension": ".py",
   "mimetype": "text/x-python",
   "name": "python",
   "nbconvert_exporter": "python",
   "pygments_lexer": "ipython2",
   "version": "2.7.15"
  }
 },
 "nbformat": 4,
 "nbformat_minor": 2
}
