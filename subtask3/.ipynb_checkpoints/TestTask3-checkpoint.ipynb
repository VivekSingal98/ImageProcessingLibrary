{
 "cells": [
  {
   "cell_type": "code",
   "execution_count": 1,
   "metadata": {},
   "outputs": [],
   "source": [
    "import numpy as np"
   ]
  },
  {
   "cell_type": "code",
   "execution_count": 2,
   "metadata": {},
   "outputs": [],
   "source": [
    "epsilon=0.001"
   ]
  },
  {
   "cell_type": "code",
   "execution_count": 3,
   "metadata": {},
   "outputs": [],
   "source": [
    "def check(line1,line2):\n",
    "    for num1,num2 in zip(line1,line2):\n",
    "        if(np.abs(num1-num2)>epsilon):\n",
    "            print \"Not working\"\n",
    "            print str(num1)+\" \"+str(num2)+\" \"+str(np.abs(num1-num2))"
   ]
  },
  {
   "cell_type": "code",
   "execution_count": 6,
   "metadata": {},
   "outputs": [
    {
     "ename": "IOError",
     "evalue": "[Errno 2] No such file or directory: 'output.txt'",
     "output_type": "error",
     "traceback": [
      "\u001b[0;31m---------------------------------------------------------------------------\u001b[0m",
      "\u001b[0;31mIOError\u001b[0m                                   Traceback (most recent call last)",
      "\u001b[0;32m<ipython-input-6-270b556394da>\u001b[0m in \u001b[0;36m<module>\u001b[0;34m()\u001b[0m\n\u001b[1;32m      1\u001b[0m \u001b[0mlines\u001b[0m\u001b[0;34m=\u001b[0m\u001b[0;34m[\u001b[0m\u001b[0;34m]\u001b[0m\u001b[0;34m\u001b[0m\u001b[0m\n\u001b[0;32m----> 2\u001b[0;31m \u001b[0;32mwith\u001b[0m \u001b[0mopen\u001b[0m\u001b[0;34m(\u001b[0m\u001b[0;34m\"output.txt\"\u001b[0m\u001b[0;34m)\u001b[0m \u001b[0;32mas\u001b[0m \u001b[0mtextFile\u001b[0m\u001b[0;34m:\u001b[0m\u001b[0;34m\u001b[0m\u001b[0m\n\u001b[0m\u001b[1;32m      3\u001b[0m     \u001b[0;32mfor\u001b[0m \u001b[0mline\u001b[0m \u001b[0;32min\u001b[0m \u001b[0mtextFile\u001b[0m\u001b[0;34m:\u001b[0m\u001b[0;34m\u001b[0m\u001b[0m\n\u001b[1;32m      4\u001b[0m         \u001b[0mline\u001b[0m \u001b[0;34m=\u001b[0m \u001b[0mline\u001b[0m\u001b[0;34m.\u001b[0m\u001b[0mtranslate\u001b[0m\u001b[0;34m(\u001b[0m\u001b[0mNone\u001b[0m\u001b[0;34m,\u001b[0m \u001b[0;34m'[]'\u001b[0m\u001b[0;34m)\u001b[0m\u001b[0;34m\u001b[0m\u001b[0m\n\u001b[1;32m      5\u001b[0m         \u001b[0;32mif\u001b[0m \u001b[0mlen\u001b[0m\u001b[0;34m(\u001b[0m\u001b[0mline\u001b[0m\u001b[0;34m)\u001b[0m\u001b[0;34m>\u001b[0m\u001b[0;36m10\u001b[0m\u001b[0;34m:\u001b[0m\u001b[0;34m\u001b[0m\u001b[0m\n",
      "\u001b[0;31mIOError\u001b[0m: [Errno 2] No such file or directory: 'output.txt'"
     ]
    }
   ],
   "source": [
    "lines=[]\n",
    "with open(\"output.txt\") as textFile:\n",
    "    for line in textFile:\n",
    "        line = line.translate(None, '[]')\n",
    "        if len(line)>10:\n",
    "            lines.append([line.split()])\n",
    "        \n",
    "for i,line1 in enumerate(lines):\n",
    "    for j,line2 in enumerate(line1):\n",
    "        lines[i][j]=map(float,lines[i][j])\n",
    "        \n",
    "linesCorrect=[]\n",
    "with open(\"./MNISTexampledigit1/1/data.txt\") as textFile:\n",
    "    for line in textFile:\n",
    "        line = line.translate(None, '[]')\n",
    "        if len(line)>10:\n",
    "            linesCorrect.append([line.split()])\n",
    "        \n",
    "for i,line1 in enumerate(linesCorrect):\n",
    "    for j,line2 in enumerate(line1):\n",
    "        linesCorrect[i][j]=map(float,linesCorrect[i][j])\n",
    "\n",
    "line1=np.array(lines).squeeze().flatten()\n",
    "line2=np.array(linesCorrect).squeeze().flatten()"
   ]
  },
  {
   "cell_type": "code",
   "execution_count": 5,
   "metadata": {},
   "outputs": [
    {
     "ename": "NameError",
     "evalue": "name 'line1' is not defined",
     "output_type": "error",
     "traceback": [
      "\u001b[0;31m---------------------------------------------------------------------------\u001b[0m",
      "\u001b[0;31mNameError\u001b[0m                                 Traceback (most recent call last)",
      "\u001b[0;32m<ipython-input-5-70d2c167b089>\u001b[0m in \u001b[0;36m<module>\u001b[0;34m()\u001b[0m\n\u001b[0;32m----> 1\u001b[0;31m \u001b[0mcheck\u001b[0m\u001b[0;34m(\u001b[0m\u001b[0mline1\u001b[0m\u001b[0;34m,\u001b[0m\u001b[0mline2\u001b[0m\u001b[0;34m)\u001b[0m\u001b[0;34m\u001b[0m\u001b[0m\n\u001b[0m",
      "\u001b[0;31mNameError\u001b[0m: name 'line1' is not defined"
     ]
    }
   ],
   "source": [
    "check(line1,line2)"
   ]
  },
  {
   "cell_type": "code",
   "execution_count": null,
   "metadata": {},
   "outputs": [],
   "source": [
    "pool=[]\n",
    "with open(\"./mnistSampleOutput/1/pool1.txt\") as textFile:\n",
    "    for line in textFile:\n",
    "        line = line.translate(None, '[]')\n",
    "        if len(line)>10:\n",
    "            pool.append([line.split()])\n",
    "        \n",
    "for i,line1 in enumerate(pool):\n",
    "    for j,line2 in enumerate(line1):\n",
    "        pool[i][j]=map(float,pool[i][j])\n",
    "pool=np.array(pool).squeeze().flatten()\n",
    "\n",
    "f=open(\"pool1.txt\",\"w\")\n",
    "f.write(\" \".join(str(num) for num in pool))\n",
    "f.close()"
   ]
  },
  {
   "cell_type": "code",
   "execution_count": null,
   "metadata": {},
   "outputs": [],
   "source": [
    "\n",
    "lines=[]\n",
    "with open(\"output2.txt\") as textFile:\n",
    "    for line in textFile:\n",
    "        line = line.translate(None, '[]')\n",
    "        if len(line)>10:\n",
    "            lines.append([line.split()])\n",
    "        \n",
    "for i,line1 in enumerate(lines):\n",
    "    for j,line2 in enumerate(line1):\n",
    "        lines[i][j]=map(float,lines[i][j])\n",
    "        \n",
    "linesCorrect=[]\n",
    "with open(\"./mnistSampleOutput/1/conv2.txt\") as textFile:\n",
    "    for line in textFile:\n",
    "        line = line.translate(None, '[]')\n",
    "        if len(line)>10:\n",
    "            linesCorrect.append([line.split()])\n",
    "        \n",
    "for i,line1 in enumerate(linesCorrect):\n",
    "    for j,line2 in enumerate(line1):\n",
    "        linesCorrect[i][j]=map(float,linesCorrect[i][j])\n",
    "\n",
    "line1=np.array(lines).squeeze().flatten()\n",
    "line2=np.array(linesCorrect).squeeze().flatten()"
   ]
  },
  {
   "cell_type": "code",
   "execution_count": null,
   "metadata": {},
   "outputs": [],
   "source": [
    "check(line1,line2)"
   ]
  }
 ],
 "metadata": {
  "kernelspec": {
   "display_name": "Python 2",
   "language": "python",
   "name": "python2"
  },
  "language_info": {
   "codemirror_mode": {
    "name": "ipython",
    "version": 2
   },
   "file_extension": ".py",
   "mimetype": "text/x-python",
   "name": "python",
   "nbconvert_exporter": "python",
   "pygments_lexer": "ipython2",
   "version": "2.7.15"
  }
 },
 "nbformat": 4,
 "nbformat_minor": 2
}
