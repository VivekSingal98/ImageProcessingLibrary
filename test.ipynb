{
 "cells": [
  {
   "cell_type": "code",
   "execution_count": 1,
   "metadata": {},
   "outputs": [],
   "source": [
    "import numpy as np\n",
    "import subprocess\n",
    "from scipy import signal"
   ]
  },
  {
   "cell_type": "code",
   "execution_count": 2,
   "metadata": {},
   "outputs": [],
   "source": [
    "epsilon=0.01\n",
    "num_iteration=10"
   ]
  },
  {
   "cell_type": "code",
   "execution_count": 3,
   "metadata": {},
   "outputs": [],
   "source": [
    "def check(c,c1):\n",
    "    for num1,num2 in zip(c,c1):\n",
    "        if(np.abs(num1-num2)>epsilon):\n",
    "            print \"Not working\"\n",
    "            print str(num1)+\" \"+str(num2)+\" \"+str(np.abs(num1-num2))"
   ]
  },
  {
   "cell_type": "code",
   "execution_count": 4,
   "metadata": {},
   "outputs": [],
   "source": [
    "#testing convolution with multiplication\n",
    "subprocess.call([\"make\"])\n",
    "for i in range(num_iteration):\n",
    "    size1=np.random.randint(10,100)\n",
    "    size2=size1//np.random.randint(1,10)\n",
    "    padding=np.random.randint(0,20)\n",
    "    a=np.random.randn(size1,size1).astype(np.float32)\n",
    "    b=np.random.randn(size2,size2).astype(np.float32)\n",
    "    a_columMajor=a.T\n",
    "    b_columnMajor=b.T\n",
    "    f = open(\"input1.txt\", \"w\")\n",
    "    for elem in a_columMajor:\n",
    "        f.write(\" \".join(str(num) for num in elem))\n",
    "        f.write(\" \")\n",
    "    f.close();\n",
    "    f=open(\"input2.txt\",\"w\")\n",
    "    for elem in b_columnMajor:\n",
    "        f.write(\" \".join(str(num) for num in elem))\n",
    "        f.write(\" \")\n",
    "    f.close()\n",
    "    subprocess.call([\"./main\",\"convolution_mult\",str(padding),\"input1.txt\",str(size1),\"input2.txt\",\n",
    "                     str(size2),\"output.txt\"])\n",
    "    f=open(\"output.txt\",\"r\")\n",
    "    line=f.readline()\n",
    "    c=np.array([np.float32(x) for x in line.split()])\n",
    "    f.close()\n",
    "    a1=np.pad(a, (padding,padding), 'constant', constant_values=(0, 0))\n",
    "    c1=np.squeeze(signal.correlate2d(a1,b,mode=\"valid\").T.reshape(-1,1))\n",
    "    \n",
    "    check(c,c1)"
   ]
  },
  {
   "cell_type": "code",
   "execution_count": 5,
   "metadata": {},
   "outputs": [],
   "source": [
    "#testing activation\n",
    "subprocess.call([\"make\"])\n",
    "for i in range(num_iteration):\n",
    "    size1=np.random.randint(1,100)\n",
    "    size2=np.random.randint(1,100)\n",
    "    a=np.random.randn(size1,size2).astype(np.float32)\n",
    "    f = open(\"input.txt\", \"w\")\n",
    "    for elem in a.T:\n",
    "        f.write(\" \".join(str(num) for num in elem))\n",
    "        f.write(\" \")\n",
    "    f.close();\n",
    "    option=np.random.randint(1,3)\n",
    "    if(option==1):\n",
    "        c1=np.squeeze(np.maximum(a,0).T.reshape(-1,1))\n",
    "        subprocess.call([\"./main\",\"activation\",\"relu\",\"input.txt\",str(size1),str(size2),\"output.txt\"])\n",
    "        f=open(\"output.txt\",\"r\")\n",
    "        line=f.readline()\n",
    "        c=np.array([np.float32(x) for x in line.split()])\n",
    "        f.close()\n",
    "        check(c,c1)\n",
    "    else:\n",
    "        c1=np.squeeze(np.tanh(a).T.reshape(-1,1))\n",
    "        subprocess.call([\"./main\",\"activation\",\"tanh\",\"input.txt\",str(size1),str(size2),\"output.txt\"])\n",
    "        f=open(\"output.txt\",\"r\")\n",
    "        line=f.readline()\n",
    "        c=np.array([np.float32(x) for x in line.split()])\n",
    "        f.close()\n",
    "        check(c,c1)"
   ]
  },
  {
   "cell_type": "code",
   "execution_count": null,
   "metadata": {},
   "outputs": [],
   "source": []
  }
 ],
 "metadata": {
  "kernelspec": {
   "display_name": "Python 2",
   "language": "python",
   "name": "python2"
  },
  "language_info": {
   "codemirror_mode": {
    "name": "ipython",
    "version": 2
   },
   "file_extension": ".py",
   "mimetype": "text/x-python",
   "name": "python",
   "nbconvert_exporter": "python",
   "pygments_lexer": "ipython2",
   "version": "2.7.15"
  }
 },
 "nbformat": 4,
 "nbformat_minor": 2
}
