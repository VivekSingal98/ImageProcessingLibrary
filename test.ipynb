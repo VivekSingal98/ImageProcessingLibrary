{
 "cells": [
  {
   "cell_type": "code",
   "execution_count": 1,
   "metadata": {},
   "outputs": [],
   "source": [
    "import numpy as np\n",
    "from scipy import signal\n"
   ]
  },
  {
   "cell_type": "code",
   "execution_count": 7,
   "metadata": {},
   "outputs": [
    {
     "name": "stderr",
     "output_type": "stream",
     "text": [
      "/Users/viveksingal/anaconda2/lib/python2.7/site-packages/ipykernel_launcher.py:1: DeprecationWarning: This function is deprecated. Please call randint(5, 100 + 1) instead\n",
      "  \"\"\"Entry point for launching an IPython kernel.\n",
      "/Users/viveksingal/anaconda2/lib/python2.7/site-packages/ipykernel_launcher.py:2: DeprecationWarning: This function is deprecated. Please call randint(5, 100 + 1) instead\n",
      "  \n"
     ]
    }
   ],
   "source": [
    "a=np.random.random_integers(5,100,size=(4,5))\n",
    "b=np.random.random_integers(5,100,size=(3,2))"
   ]
  },
  {
   "cell_type": "code",
   "execution_count": 9,
   "metadata": {},
   "outputs": [],
   "source": [
    "f = open(\"input.txt\", \"w\")\n",
    "f.write(\" \".join(str(num) for num in a.shape))\n",
    "f.write(\" \")\n",
    "for elem in a:\n",
    "    f.write(\" \".join(str(num) for num in elem))\n",
    "    f.write(\" \")\n",
    "f.write(\" \".join(str(num) for num in b.shape))\n",
    "f.write(\" \")\n",
    "for elem in b:\n",
    "    f.write(\" \".join(str(num) for num in elem))\n",
    "    f.write(\" \")\n",
    "f.close()\n",
    "\n",
    "f=open(\"outputPython.txt\",\"w\")\n",
    "c=signal.correlate2d(a,b,mode=\"valid\")\n",
    "for elem in c:\n",
    "    f.write(\" \".join(str(num) for num in elem))\n",
    "    f.write(\" \")\n",
    "f.close()"
   ]
  },
  {
   "cell_type": "code",
   "execution_count": 11,
   "metadata": {},
   "outputs": [
    {
     "data": {
      "text/plain": [
       "array([[15319, 15590, 17400, 15873],\n",
       "       [13773, 17529, 21062, 16079]])"
      ]
     },
     "execution_count": 11,
     "metadata": {},
     "output_type": "execute_result"
    }
   ],
   "source": [
    "c"
   ]
  },
  {
   "cell_type": "code",
   "execution_count": 9,
   "metadata": {},
   "outputs": [
    {
     "data": {
      "text/plain": [
       "array([[45, 57, 37, 95, 71],\n",
       "       [11, 48, 85, 83, 66],\n",
       "       [38, 29, 23, 16, 53],\n",
       "       [57, 15, 90, 65, 40]])"
      ]
     },
     "execution_count": 9,
     "metadata": {},
     "output_type": "execute_result"
    }
   ],
   "source": [
    "a"
   ]
  },
  {
   "cell_type": "code",
   "execution_count": 10,
   "metadata": {},
   "outputs": [
    {
     "data": {
      "text/plain": [
       "array([[66, 39],\n",
       "       [97, 17],\n",
       "       [64,  8]])"
      ]
     },
     "execution_count": 10,
     "metadata": {},
     "output_type": "execute_result"
    }
   ],
   "source": [
    "b"
   ]
  },
  {
   "cell_type": "code",
   "execution_count": null,
   "metadata": {},
   "outputs": [],
   "source": []
  }
 ],
 "metadata": {
  "kernelspec": {
   "display_name": "Python 2",
   "language": "python",
   "name": "python2"
  },
  "language_info": {
   "codemirror_mode": {
    "name": "ipython",
    "version": 2
   },
   "file_extension": ".py",
   "mimetype": "text/x-python",
   "name": "python",
   "nbconvert_exporter": "python",
   "pygments_lexer": "ipython2",
   "version": "2.7.15"
  }
 },
 "nbformat": 4,
 "nbformat_minor": 2
}
