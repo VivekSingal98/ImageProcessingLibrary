{
 "cells": [
  {
   "cell_type": "code",
   "execution_count": 17,
   "metadata": {},
   "outputs": [],
   "source": [
    "import numpy as np\n",
    "from scipy import signal\n"
   ]
  },
  {
   "cell_type": "code",
   "execution_count": 214,
   "metadata": {},
   "outputs": [],
   "source": [
    "size1=10\n",
    "size2=5\n",
    "\n",
    "epsilon=0.00001\n",
    "a=np.random.randn(size1,size1).astype(np.float32)\n",
    "b=np.random.randn(size2,size2).astype(np.float32)\n",
    "\n",
    "f = open(\"input1.txt\", \"w\")\n",
    "for elem in a:\n",
    "    f.write(\" \".join(str(num) for num in elem))\n",
    "    f.write(\" \")\n",
    "f.close();\n",
    "\n",
    "f=open(\"input2.txt\",\"w\")\n",
    "for elem in b:\n",
    "    f.write(\" \".join(str(num) for num in elem))\n",
    "    f.write(\" \")\n",
    "f.close()"
   ]
  },
  {
   "cell_type": "code",
   "execution_count": 223,
   "metadata": {},
   "outputs": [],
   "source": [
    "pad=1\n",
    "f=open(\"output.txt\",\"r\")\n",
    "line=f.readline()\n",
    "c1=np.array([np.float32(x) for x in line.split()])\n",
    "f.close()\n",
    "a1=np.pad(a, (pad,pad), 'constant', constant_values=(0, 0))\n",
    "c=np.squeeze(signal.correlate2d(a1,b,mode=\"valid\").reshape(-1,1))"
   ]
  },
  {
   "cell_type": "code",
   "execution_count": 224,
   "metadata": {},
   "outputs": [
    {
     "data": {
      "text/plain": [
       "(64,)"
      ]
     },
     "execution_count": 224,
     "metadata": {},
     "output_type": "execute_result"
    }
   ],
   "source": [
    "c.shape"
   ]
  },
  {
   "cell_type": "code",
   "execution_count": 225,
   "metadata": {},
   "outputs": [
    {
     "data": {
      "text/plain": [
       "(64,)"
      ]
     },
     "execution_count": 225,
     "metadata": {},
     "output_type": "execute_result"
    }
   ],
   "source": [
    "c1.shape"
   ]
  },
  {
   "cell_type": "code",
   "execution_count": 226,
   "metadata": {},
   "outputs": [
    {
     "data": {
      "text/plain": [
       "array([ -2.9141493 ,   4.2992115 ,  -9.053413  ,  -1.5514579 ,\n",
       "        -9.487047  ,   4.5419292 ,  -0.07503176,   3.7815676 ,\n",
       "        -3.655309  ,  10.025689  ,   1.2577807 ,   7.718839  ,\n",
       "         0.702176  ,  -6.2812805 ,  -1.6984166 ,  -3.5752866 ,\n",
       "         1.0472558 , -11.569494  ,   8.02701   ,   1.5995841 ,\n",
       "        13.234629  ,   0.6506822 ,   5.1745906 ,  -1.8631438 ,\n",
       "         1.1188287 ,  -5.381351  ,   2.011237  ,  -3.6081748 ,\n",
       "         3.077429  ,  -0.15857637,  -2.443803  ,   2.7728133 ,\n",
       "         4.120267  ,   8.989772  ,   5.421766  ,   4.1829066 ,\n",
       "        -8.973361  ,   1.0054643 ,   1.2603048 ,  -8.950005  ,\n",
       "         6.296142  ,  -3.100207  ,   0.82536554,  11.409778  ,\n",
       "         0.3335744 ,  -2.0005581 ,  -4.5282087 ,  -4.7130837 ,\n",
       "         2.367745  ,   5.362504  ,  -2.2239354 ,  -0.03634036,\n",
       "         2.955905  ,   0.86399597,  -5.6126184 ,   1.4317241 ,\n",
       "        -7.9675503 ,   4.022829  ,   9.657861  ,  -3.7783937 ,\n",
       "         3.2073107 ,  -7.1140532 ,  -2.353728  ,   2.7268944 ],\n",
       "      dtype=float32)"
      ]
     },
     "execution_count": 226,
     "metadata": {},
     "output_type": "execute_result"
    }
   ],
   "source": [
    "c"
   ]
  },
  {
   "cell_type": "code",
   "execution_count": 227,
   "metadata": {},
   "outputs": [
    {
     "data": {
      "text/plain": [
       "array([ -2.9141493 ,   4.2992115 ,  -9.053413  ,  -1.5514579 ,\n",
       "        -9.487047  ,   4.5419292 ,  -0.07503176,   3.7815676 ,\n",
       "        -3.655309  ,  10.025689  ,   1.2577807 ,   7.718839  ,\n",
       "         0.702176  ,  -6.2812805 ,  -1.6984166 ,  -3.5752866 ,\n",
       "         1.0472558 , -11.569494  ,   8.02701   ,   1.5995841 ,\n",
       "        13.234629  ,   0.6506822 ,   5.1745906 ,  -1.8631438 ,\n",
       "         1.1188287 ,  -5.381351  ,   2.011237  ,  -3.6081748 ,\n",
       "         3.077429  ,  -0.15857637,  -2.443803  ,   2.7728133 ,\n",
       "         4.120267  ,   8.989772  ,   5.421766  ,   4.1829066 ,\n",
       "        -8.973361  ,   1.0054643 ,   1.2603048 ,  -8.950005  ,\n",
       "         6.296142  ,  -3.100207  ,   0.82536554,  11.409778  ,\n",
       "         0.3335744 ,  -2.0005581 ,  -4.5282087 ,  -4.7130837 ,\n",
       "         2.367745  ,   5.362504  ,  -2.2239354 ,  -0.03634036,\n",
       "         2.955905  ,   0.86399597,  -5.6126184 ,   1.4317241 ,\n",
       "        -7.9675503 ,   4.022829  ,   9.657861  ,  -3.7783937 ,\n",
       "         3.2073107 ,  -7.1140532 ,  -2.353728  ,   2.7268944 ],\n",
       "      dtype=float32)"
      ]
     },
     "execution_count": 227,
     "metadata": {},
     "output_type": "execute_result"
    }
   ],
   "source": [
    "c"
   ]
  },
  {
   "cell_type": "code",
   "execution_count": null,
   "metadata": {},
   "outputs": [],
   "source": []
  }
 ],
 "metadata": {
  "kernelspec": {
   "display_name": "Python 2",
   "language": "python",
   "name": "python2"
  },
  "language_info": {
   "codemirror_mode": {
    "name": "ipython",
    "version": 2
   },
   "file_extension": ".py",
   "mimetype": "text/x-python",
   "name": "python",
   "nbconvert_exporter": "python",
   "pygments_lexer": "ipython2",
   "version": "2.7.15"
  }
 },
 "nbformat": 4,
 "nbformat_minor": 2
}
