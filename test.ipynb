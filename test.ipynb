{
 "cells": [
  {
   "cell_type": "code",
   "execution_count": 1,
   "metadata": {},
   "outputs": [],
   "source": [
    "import numpy as np\n",
    "import subprocess\n",
    "from scipy import signal"
   ]
  },
  {
   "cell_type": "code",
   "execution_count": 2,
   "metadata": {},
   "outputs": [],
   "source": [
    "epsilon=0.01\n",
    "num_iteration=10"
   ]
  },
  {
   "cell_type": "code",
   "execution_count": 3,
   "metadata": {},
   "outputs": [],
   "source": [
    "def check(c,c1):\n",
    "    for num1,num2 in zip(c,c1):\n",
    "        if(np.abs(num1-num2)>epsilon):\n",
    "            print \"Not working\"\n",
    "            print str(num1)+\" \"+str(num2)+\" \"+str(np.abs(num1-num2))"
   ]
  },
  {
   "cell_type": "code",
   "execution_count": 5,
   "metadata": {},
   "outputs": [
    {
     "ename": "WindowsError",
     "evalue": "[Error 2] The system cannot find the file specified",
     "output_type": "error",
     "traceback": [
      "\u001b[1;31m---------------------------------------------------------------------------\u001b[0m",
      "\u001b[1;31mWindowsError\u001b[0m                              Traceback (most recent call last)",
      "\u001b[1;32m<ipython-input-5-731394ad4892>\u001b[0m in \u001b[0;36m<module>\u001b[1;34m()\u001b[0m\n\u001b[0;32m      1\u001b[0m \u001b[1;31m#testing convolution with multiplication\u001b[0m\u001b[1;33m\u001b[0m\u001b[1;33m\u001b[0m\u001b[0m\n\u001b[1;32m----> 2\u001b[1;33m \u001b[0msubprocess\u001b[0m\u001b[1;33m.\u001b[0m\u001b[0mcall\u001b[0m\u001b[1;33m(\u001b[0m\u001b[1;33m[\u001b[0m\u001b[1;34m\"make\"\u001b[0m\u001b[1;33m]\u001b[0m\u001b[1;33m)\u001b[0m\u001b[1;33m\u001b[0m\u001b[0m\n\u001b[0m\u001b[0;32m      3\u001b[0m \u001b[1;32mfor\u001b[0m \u001b[0mi\u001b[0m \u001b[1;32min\u001b[0m \u001b[0mrange\u001b[0m\u001b[1;33m(\u001b[0m\u001b[0mnum_iteration\u001b[0m\u001b[1;33m)\u001b[0m\u001b[1;33m:\u001b[0m\u001b[1;33m\u001b[0m\u001b[0m\n\u001b[0;32m      4\u001b[0m     \u001b[0msize1\u001b[0m\u001b[1;33m=\u001b[0m\u001b[0mnp\u001b[0m\u001b[1;33m.\u001b[0m\u001b[0mrandom\u001b[0m\u001b[1;33m.\u001b[0m\u001b[0mrandint\u001b[0m\u001b[1;33m(\u001b[0m\u001b[1;36m10\u001b[0m\u001b[1;33m,\u001b[0m\u001b[1;36m100\u001b[0m\u001b[1;33m)\u001b[0m\u001b[1;33m\u001b[0m\u001b[0m\n\u001b[0;32m      5\u001b[0m     \u001b[0msize2\u001b[0m\u001b[1;33m=\u001b[0m\u001b[0msize1\u001b[0m\u001b[1;33m//\u001b[0m\u001b[0mnp\u001b[0m\u001b[1;33m.\u001b[0m\u001b[0mrandom\u001b[0m\u001b[1;33m.\u001b[0m\u001b[0mrandint\u001b[0m\u001b[1;33m(\u001b[0m\u001b[1;36m1\u001b[0m\u001b[1;33m,\u001b[0m\u001b[1;36m10\u001b[0m\u001b[1;33m)\u001b[0m\u001b[1;33m\u001b[0m\u001b[0m\n",
      "\u001b[1;32mC:\\Users\\Mahak Gupta\\Anaconda2\\lib\\subprocess.pyc\u001b[0m in \u001b[0;36mcall\u001b[1;34m(*popenargs, **kwargs)\u001b[0m\n\u001b[0;32m    170\u001b[0m     \u001b[0mretcode\u001b[0m \u001b[1;33m=\u001b[0m \u001b[0mcall\u001b[0m\u001b[1;33m(\u001b[0m\u001b[1;33m[\u001b[0m\u001b[1;34m\"ls\"\u001b[0m\u001b[1;33m,\u001b[0m \u001b[1;34m\"-l\"\u001b[0m\u001b[1;33m]\u001b[0m\u001b[1;33m)\u001b[0m\u001b[1;33m\u001b[0m\u001b[0m\n\u001b[0;32m    171\u001b[0m     \"\"\"\n\u001b[1;32m--> 172\u001b[1;33m     \u001b[1;32mreturn\u001b[0m \u001b[0mPopen\u001b[0m\u001b[1;33m(\u001b[0m\u001b[1;33m*\u001b[0m\u001b[0mpopenargs\u001b[0m\u001b[1;33m,\u001b[0m \u001b[1;33m**\u001b[0m\u001b[0mkwargs\u001b[0m\u001b[1;33m)\u001b[0m\u001b[1;33m.\u001b[0m\u001b[0mwait\u001b[0m\u001b[1;33m(\u001b[0m\u001b[1;33m)\u001b[0m\u001b[1;33m\u001b[0m\u001b[0m\n\u001b[0m\u001b[0;32m    173\u001b[0m \u001b[1;33m\u001b[0m\u001b[0m\n\u001b[0;32m    174\u001b[0m \u001b[1;33m\u001b[0m\u001b[0m\n",
      "\u001b[1;32mC:\\Users\\Mahak Gupta\\Anaconda2\\lib\\subprocess.pyc\u001b[0m in \u001b[0;36m__init__\u001b[1;34m(self, args, bufsize, executable, stdin, stdout, stderr, preexec_fn, close_fds, shell, cwd, env, universal_newlines, startupinfo, creationflags)\u001b[0m\n\u001b[0;32m    392\u001b[0m                                 \u001b[0mp2cread\u001b[0m\u001b[1;33m,\u001b[0m \u001b[0mp2cwrite\u001b[0m\u001b[1;33m,\u001b[0m\u001b[1;33m\u001b[0m\u001b[0m\n\u001b[0;32m    393\u001b[0m                                 \u001b[0mc2pread\u001b[0m\u001b[1;33m,\u001b[0m \u001b[0mc2pwrite\u001b[0m\u001b[1;33m,\u001b[0m\u001b[1;33m\u001b[0m\u001b[0m\n\u001b[1;32m--> 394\u001b[1;33m                                 errread, errwrite)\n\u001b[0m\u001b[0;32m    395\u001b[0m         \u001b[1;32mexcept\u001b[0m \u001b[0mException\u001b[0m\u001b[1;33m:\u001b[0m\u001b[1;33m\u001b[0m\u001b[0m\n\u001b[0;32m    396\u001b[0m             \u001b[1;31m# Preserve original exception in case os.close raises.\u001b[0m\u001b[1;33m\u001b[0m\u001b[1;33m\u001b[0m\u001b[0m\n",
      "\u001b[1;32mC:\\Users\\Mahak Gupta\\Anaconda2\\lib\\subprocess.pyc\u001b[0m in \u001b[0;36m_execute_child\u001b[1;34m(self, args, executable, preexec_fn, close_fds, cwd, env, universal_newlines, startupinfo, creationflags, shell, to_close, p2cread, p2cwrite, c2pread, c2pwrite, errread, errwrite)\u001b[0m\n\u001b[0;32m    642\u001b[0m                                          \u001b[0menv\u001b[0m\u001b[1;33m,\u001b[0m\u001b[1;33m\u001b[0m\u001b[0m\n\u001b[0;32m    643\u001b[0m                                          \u001b[0mcwd\u001b[0m\u001b[1;33m,\u001b[0m\u001b[1;33m\u001b[0m\u001b[0m\n\u001b[1;32m--> 644\u001b[1;33m                                          startupinfo)\n\u001b[0m\u001b[0;32m    645\u001b[0m             \u001b[1;32mexcept\u001b[0m \u001b[0mpywintypes\u001b[0m\u001b[1;33m.\u001b[0m\u001b[0merror\u001b[0m\u001b[1;33m,\u001b[0m \u001b[0me\u001b[0m\u001b[1;33m:\u001b[0m\u001b[1;33m\u001b[0m\u001b[0m\n\u001b[0;32m    646\u001b[0m                 \u001b[1;31m# Translate pywintypes.error to WindowsError, which is\u001b[0m\u001b[1;33m\u001b[0m\u001b[1;33m\u001b[0m\u001b[0m\n",
      "\u001b[1;31mWindowsError\u001b[0m: [Error 2] The system cannot find the file specified"
     ]
    }
   ],
   "source": [
    "#testing convolution with multiplication\n",
    "subprocess.call([\"make\"])\n",
    "for i in range(num_iteration):\n",
    "    size1=np.random.randint(10,100)\n",
    "    size2=size1//np.random.randint(1,10)\n",
    "    padding=np.random.randint(0,20)\n",
    "    a=np.random.randn(size1,size1).astype(np.float32)\n",
    "    b=np.random.randn(size2,size2).astype(np.float32)\n",
    "    a_columMajor=a.T\n",
    "    b_columnMajor=b.T\n",
    "    f = open(\"input.txt\", \"w\")\n",
    "    for elem in a_columMajor:\n",
    "        f.write(\" \".join(str(num) for num in elem))\n",
    "        f.write(\" \")\n",
    "    f.close();\n",
    "    f=open(\"kernel.txt\",\"w\")\n",
    "    for elem in b_columnMajor:\n",
    "        f.write(\" \".join(str(num) for num in elem))\n",
    "        f.write(\" \")\n",
    "    f.close()\n",
    "    subprocess.call([\"./main\",\"convolution_mult\",str(padding),\"input.txt\",str(size1),\"kernel.txt\",\n",
    "                     str(size2),\"output.txt\"])\n",
    "    f=open(\"output.txt\",\"r\")\n",
    "    line=f.readline()\n",
    "    c=np.array([np.float32(x) for x in line.split()])\n",
    "    f.close()\n",
    "    a1=np.pad(a, (padding,padding), 'constant', constant_values=(0, 0))\n",
    "    c1=np.squeeze(signal.correlate2d(a1,b,mode=\"valid\").T.reshape(-1,1))\n",
    "    \n",
    "    check(c,c1)"
   ]
  },
  {
   "cell_type": "code",
   "execution_count": 5,
   "metadata": {},
   "outputs": [],
   "source": [
    "#testing activation\n",
    "subprocess.call([\"make\"])\n",
    "for i in range(num_iteration):\n",
    "    size1=np.random.randint(1,100)\n",
    "    size2=np.random.randint(1,100)\n",
    "    a=np.random.randn(size1,size2).astype(np.float32)\n",
    "    f = open(\"input.txt\", \"w\")\n",
    "    for elem in a.T:\n",
    "        f.write(\" \".join(str(num) for num in elem))\n",
    "        f.write(\" \")\n",
    "    f.close();\n",
    "    option=np.random.randint(1,3)\n",
    "    if(option==1):\n",
    "        c1=np.squeeze(np.maximum(a,0).T.reshape(-1,1))\n",
    "        subprocess.call([\"./main\",\"activation\",\"relu\",\"input.txt\",str(size1),str(size2),\"output.txt\"])\n",
    "        f=open(\"output.txt\",\"r\")\n",
    "        line=f.readline()\n",
    "        c=np.array([np.float32(x) for x in line.split()])\n",
    "        f.close()\n",
    "        check(c,c1)\n",
    "    else:\n",
    "        c1=np.squeeze(np.tanh(a).T.reshape(-1,1))\n",
    "        subprocess.call([\"./main\",\"activation\",\"tanh\",\"input.txt\",str(size1),str(size2),\"output.txt\"])\n",
    "        f=open(\"output.txt\",\"r\")\n",
    "        line=f.readline()\n",
    "        c=np.array([np.float32(x) for x in line.split()])\n",
    "        f.close()\n",
    "        check(c,c1)"
   ]
  },
  {
   "cell_type": "code",
   "execution_count": null,
   "metadata": {},
   "outputs": [],
   "source": []
  }
 ],
 "metadata": {
  "kernelspec": {
   "display_name": "Python 2",
   "language": "python",
   "name": "python2"
  },
  "language_info": {
   "codemirror_mode": {
    "name": "ipython",
    "version": 2
   },
   "file_extension": ".py",
   "mimetype": "text/x-python",
   "name": "python",
   "nbconvert_exporter": "python",
   "pygments_lexer": "ipython2",
   "version": "2.7.15"
  }
 },
 "nbformat": 4,
 "nbformat_minor": 2
}
