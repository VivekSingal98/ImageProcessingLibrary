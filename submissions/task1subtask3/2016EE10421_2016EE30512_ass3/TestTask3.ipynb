{
 "cells": [
  {
   "cell_type": "code",
   "execution_count": 1,
   "metadata": {},
   "outputs": [],
   "source": [
    "import numpy as np"
   ]
  },
  {
   "cell_type": "code",
   "execution_count": 2,
   "metadata": {},
   "outputs": [],
   "source": [
    "epsilon=0.001"
   ]
  },
  {
   "cell_type": "code",
   "execution_count": 3,
   "metadata": {},
   "outputs": [],
   "source": [
    "def check(line1,line2):\n",
    "    for num1,num2 in zip(line1,line2):\n",
    "        if(np.abs(num1-num2)>epsilon):\n",
    "            print \"Not working\"\n",
    "            print str(num1)+\" \"+str(num2)+\" \"+str(np.abs(num1-num2))"
   ]
  },
  {
   "cell_type": "code",
   "execution_count": 33,
   "metadata": {},
   "outputs": [],
   "source": [
    "lines=[]\n",
    "with open(\"output.txt\") as textFile:\n",
    "    for line in textFile:\n",
    "        line = line.translate(None, '[]')\n",
    "        if len(line)>10:\n",
    "            lines.append([line.split()])\n",
    "        \n",
    "for i,line1 in enumerate(lines):\n",
    "    for j,line2 in enumerate(line1):\n",
    "        lines[i][j]=map(float,lines[i][j])\n",
    "        \n",
    "linesCorrect=[]\n",
    "with open(\"./MNISTexampledigit2/2/conv1.txt\") as textFile:\n",
    "    for line in textFile:\n",
    "        line = line.translate(None, '[]')\n",
    "        if len(line)>10:\n",
    "            linesCorrect.append([line.split()])\n",
    "        \n",
    "for i,line1 in enumerate(linesCorrect):\n",
    "    for j,line2 in enumerate(line1):\n",
    "        linesCorrect[i][j]=map(float,linesCorrect[i][j])\n",
    "\n",
    "line1=np.array(lines).squeeze().flatten()\n",
    "line2=np.array(linesCorrect).squeeze().flatten()"
   ]
  },
  {
   "cell_type": "code",
   "execution_count": 34,
   "metadata": {},
   "outputs": [
    {
     "name": "stdout",
     "output_type": "stream",
     "text": [
      "Not working\n",
      "0.0969565 -0.270575 0.3675315\n",
      "Not working\n",
      "0.00361688 -0.270575 0.27419188\n",
      "Not working\n",
      "0.0178053 -0.270575 0.28838030000000003\n",
      "Not working\n",
      "0.0287888 -0.270575 0.2993638\n",
      "Not working\n",
      "0.0117226 -0.270575 0.28229760000000004\n",
      "Not working\n",
      "0.0318747 -0.270575 0.3024497\n",
      "Not working\n",
      "0.0495699 -0.270575 0.3201449\n",
      "Not working\n",
      "0.0441449 -0.270575 0.3147199\n",
      "Not working\n",
      "0.0177515 -0.270575 0.2883265\n",
      "Not working\n",
      "0.0917492 -0.270575 0.3623242\n",
      "Not working\n",
      "0.0958329 -0.270575 0.3664079\n",
      "Not working\n",
      "0.0512341 -0.270575 0.3218091\n",
      "Not working\n",
      "0.0144625 -0.270575 0.2850375\n",
      "Not working\n",
      "0.0647379 -0.270575 0.3353129\n",
      "Not working\n",
      "0.0538307 -0.270575 0.3244057\n",
      "Not working\n",
      "0.000934811 -0.270575 0.271509811\n"
     ]
    }
   ],
   "source": [
    "check(line1,line2)"
   ]
  },
  {
   "cell_type": "code",
   "execution_count": null,
   "metadata": {},
   "outputs": [],
   "source": [
    "pool=[]\n",
    "with open(\"./mnistSampleOutput/1/pool1.txt\") as textFile:\n",
    "    for line in textFile:\n",
    "        line = line.translate(None, '[]')\n",
    "        if len(line)>10:\n",
    "            pool.append([line.split()])\n",
    "        \n",
    "for i,line1 in enumerate(pool):\n",
    "    for j,line2 in enumerate(line1):\n",
    "        pool[i][j]=map(float,pool[i][j])\n",
    "pool=np.array(pool).squeeze().flatten()\n",
    "\n",
    "f=open(\"pool1.txt\",\"w\")\n",
    "f.write(\" \".join(str(num) for num in pool))\n",
    "f.close()"
   ]
  },
  {
   "cell_type": "code",
   "execution_count": null,
   "metadata": {},
   "outputs": [],
   "source": [
    "\n",
    "lines=[]\n",
    "with open(\"output2.txt\") as textFile:\n",
    "    for line in textFile:\n",
    "        line = line.translate(None, '[]')\n",
    "        if len(line)>10:\n",
    "            lines.append([line.split()])\n",
    "        \n",
    "for i,line1 in enumerate(lines):\n",
    "    for j,line2 in enumerate(line1):\n",
    "        lines[i][j]=map(float,lines[i][j])\n",
    "        \n",
    "linesCorrect=[]\n",
    "with open(\"./mnistSampleOutput/1/conv2.txt\") as textFile:\n",
    "    for line in textFile:\n",
    "        line = line.translate(None, '[]')\n",
    "        if len(line)>10:\n",
    "            linesCorrect.append([line.split()])\n",
    "        \n",
    "for i,line1 in enumerate(linesCorrect):\n",
    "    for j,line2 in enumerate(line1):\n",
    "        linesCorrect[i][j]=map(float,linesCorrect[i][j])\n",
    "\n",
    "line1=np.array(lines).squeeze().flatten()\n",
    "line2=np.array(linesCorrect).squeeze().flatten()"
   ]
  },
  {
   "cell_type": "code",
   "execution_count": null,
   "metadata": {},
   "outputs": [],
   "source": [
    "check(line1,line2)"
   ]
  }
 ],
 "metadata": {
  "kernelspec": {
   "display_name": "Python 2",
   "language": "python",
   "name": "python2"
  },
  "language_info": {
   "codemirror_mode": {
    "name": "ipython",
    "version": 2
   },
   "file_extension": ".py",
   "mimetype": "text/x-python",
   "name": "python",
   "nbconvert_exporter": "python",
   "pygments_lexer": "ipython2",
   "version": "2.7.15"
  }
 },
 "nbformat": 4,
 "nbformat_minor": 2
}
